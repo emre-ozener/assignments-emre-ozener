{
 "cells": [
  {
   "metadata": {},
   "cell_type": "markdown",
   "source": "# Assignment 6",
   "id": "328e49ce44c580ca"
  },
  {
   "metadata": {
    "ExecuteTime": {
     "end_time": "2024-11-12T14:36:52.962100Z",
     "start_time": "2024-11-12T14:36:52.958593Z"
    }
   },
   "cell_type": "code",
   "source": "import pandas as pd",
   "id": "5f39b6694f4620fc",
   "outputs": [],
   "execution_count": 65
  },
  {
   "metadata": {},
   "cell_type": "markdown",
   "source": "### Home Exercises for Netflix",
   "id": "d1a8968cce356671"
  },
  {
   "metadata": {
    "ExecuteTime": {
     "end_time": "2024-11-12T14:36:53.023265Z",
     "start_time": "2024-11-12T14:36:52.972928Z"
    }
   },
   "cell_type": "code",
   "source": [
    "path = '/Users/emreozener/Documents/ESADE_MIBA/Python_for_Data_Science/Assignments/Assignment_6/Files/netflix_titles.csv' #writing the full pathname\n",
    "df = pd.read_csv(path) #read csv"
   ],
   "id": "794c6dce5c054e3a",
   "outputs": [],
   "execution_count": 66
  },
  {
   "metadata": {},
   "cell_type": "markdown",
   "source": " #### 1. Is there any missing rating?\n",
   "id": "5dcae347d8ebc2a"
  },
  {
   "metadata": {
    "ExecuteTime": {
     "end_time": "2024-11-12T14:36:53.035371Z",
     "start_time": "2024-11-12T14:36:53.032662Z"
    }
   },
   "cell_type": "code",
   "source": [
    "\n",
    "missing_rating = df[\"rating\"].isna().sum() #sum of na values in rating column\n",
    "if missing_rating == 0: #if there is not missing rating, inform the user\n",
    "    print(\"No Missing rating\")\n",
    "else:\n",
    "    print(f\"Number of Missing rating: {missing_rating}\") #else, print the number\n"
   ],
   "id": "676c70c5f1463f31",
   "outputs": [
    {
     "name": "stdout",
     "output_type": "stream",
     "text": [
      "Number of Missing rating: 4\n"
     ]
    }
   ],
   "execution_count": 67
  },
  {
   "metadata": {},
   "cell_type": "markdown",
   "source": "#### 2. How many films in 2021 correspond to your country?\n",
   "id": "ec197fba307d5a4c"
  },
  {
   "metadata": {
    "ExecuteTime": {
     "end_time": "2024-11-12T14:36:53.052692Z",
     "start_time": "2024-11-12T14:36:53.043430Z"
    }
   },
   "cell_type": "code",
   "source": [
    "turkey_2021 = df[(df[\"country\"] == \"Turkey\") & (df[\"release_year\"] == 2021)] #filtering the table based on the country turkey and year 2021\n",
    "turkey_2021 "
   ],
   "id": "9e848e88ceec199b",
   "outputs": [
    {
     "data": {
      "text/plain": [
       "     show_id     type        title   director  \\\n",
       "703     s704  TV Show     The Gift        NaN   \n",
       "972     s973  TV Show        Fatma        NaN   \n",
       "1212   s1213    Movie  Paper Lives  Can Ulkay   \n",
       "1373   s1374  TV Show         50M2        NaN   \n",
       "1431   s1432    Movie  Stuck Apart        NaN   \n",
       "\n",
       "                                                   cast country  \\\n",
       "703   Beren Saat, Mehmet Günsür, Metin Akdülger, Mel...  Turkey   \n",
       "972   Burcu Biricik, Uğur Yücel, Mehmet Yılmaz Ak, H...  Turkey   \n",
       "1212  Çağatay Ulusoy, Emir Ali Doğrul, Ersin Arıcı, ...  Turkey   \n",
       "1373  Engin Öztürk, Kürşat Alnıaçık, Cengiz Bozkurt,...  Turkey   \n",
       "1431  Engin Günaydın, Haluk Bilginer, Binnur Kaya, Ö...  Turkey   \n",
       "\n",
       "            date_added  release_year rating   duration  \\\n",
       "703      June 17, 2021          2021  TV-MA  3 Seasons   \n",
       "972     April 27, 2021          2021  TV-MA   1 Season   \n",
       "1212    March 12, 2021          2021  TV-MA     97 min   \n",
       "1373  January 27, 2021          2021  TV-MA   1 Season   \n",
       "1431   January 8, 2021          2021  TV-MA     97 min   \n",
       "\n",
       "                                            listed_in  \\\n",
       "703   International TV Shows, TV Dramas, TV Mysteries   \n",
       "972   International TV Shows, TV Dramas, TV Thrillers   \n",
       "1212                     Dramas, International Movies   \n",
       "1373  International TV Shows, TV Dramas, TV Thrillers   \n",
       "1431           Comedies, Dramas, International Movies   \n",
       "\n",
       "                                            description  \n",
       "703   A painter in Istanbul embarks on a personal jo...  \n",
       "972   Reeling from tragedy, a nondescript house clea...  \n",
       "1212  In the streets of Istanbul, ailing waste wareh...  \n",
       "1373  Seeking to uncover the truth about his past, a...  \n",
       "1431  Entrenched in a midlife crisis, Aziz seeks sol...  "
      ],
      "text/html": [
       "<div>\n",
       "<style scoped>\n",
       "    .dataframe tbody tr th:only-of-type {\n",
       "        vertical-align: middle;\n",
       "    }\n",
       "\n",
       "    .dataframe tbody tr th {\n",
       "        vertical-align: top;\n",
       "    }\n",
       "\n",
       "    .dataframe thead th {\n",
       "        text-align: right;\n",
       "    }\n",
       "</style>\n",
       "<table border=\"1\" class=\"dataframe\">\n",
       "  <thead>\n",
       "    <tr style=\"text-align: right;\">\n",
       "      <th></th>\n",
       "      <th>show_id</th>\n",
       "      <th>type</th>\n",
       "      <th>title</th>\n",
       "      <th>director</th>\n",
       "      <th>cast</th>\n",
       "      <th>country</th>\n",
       "      <th>date_added</th>\n",
       "      <th>release_year</th>\n",
       "      <th>rating</th>\n",
       "      <th>duration</th>\n",
       "      <th>listed_in</th>\n",
       "      <th>description</th>\n",
       "    </tr>\n",
       "  </thead>\n",
       "  <tbody>\n",
       "    <tr>\n",
       "      <th>703</th>\n",
       "      <td>s704</td>\n",
       "      <td>TV Show</td>\n",
       "      <td>The Gift</td>\n",
       "      <td>NaN</td>\n",
       "      <td>Beren Saat, Mehmet Günsür, Metin Akdülger, Mel...</td>\n",
       "      <td>Turkey</td>\n",
       "      <td>June 17, 2021</td>\n",
       "      <td>2021</td>\n",
       "      <td>TV-MA</td>\n",
       "      <td>3 Seasons</td>\n",
       "      <td>International TV Shows, TV Dramas, TV Mysteries</td>\n",
       "      <td>A painter in Istanbul embarks on a personal jo...</td>\n",
       "    </tr>\n",
       "    <tr>\n",
       "      <th>972</th>\n",
       "      <td>s973</td>\n",
       "      <td>TV Show</td>\n",
       "      <td>Fatma</td>\n",
       "      <td>NaN</td>\n",
       "      <td>Burcu Biricik, Uğur Yücel, Mehmet Yılmaz Ak, H...</td>\n",
       "      <td>Turkey</td>\n",
       "      <td>April 27, 2021</td>\n",
       "      <td>2021</td>\n",
       "      <td>TV-MA</td>\n",
       "      <td>1 Season</td>\n",
       "      <td>International TV Shows, TV Dramas, TV Thrillers</td>\n",
       "      <td>Reeling from tragedy, a nondescript house clea...</td>\n",
       "    </tr>\n",
       "    <tr>\n",
       "      <th>1212</th>\n",
       "      <td>s1213</td>\n",
       "      <td>Movie</td>\n",
       "      <td>Paper Lives</td>\n",
       "      <td>Can Ulkay</td>\n",
       "      <td>Çağatay Ulusoy, Emir Ali Doğrul, Ersin Arıcı, ...</td>\n",
       "      <td>Turkey</td>\n",
       "      <td>March 12, 2021</td>\n",
       "      <td>2021</td>\n",
       "      <td>TV-MA</td>\n",
       "      <td>97 min</td>\n",
       "      <td>Dramas, International Movies</td>\n",
       "      <td>In the streets of Istanbul, ailing waste wareh...</td>\n",
       "    </tr>\n",
       "    <tr>\n",
       "      <th>1373</th>\n",
       "      <td>s1374</td>\n",
       "      <td>TV Show</td>\n",
       "      <td>50M2</td>\n",
       "      <td>NaN</td>\n",
       "      <td>Engin Öztürk, Kürşat Alnıaçık, Cengiz Bozkurt,...</td>\n",
       "      <td>Turkey</td>\n",
       "      <td>January 27, 2021</td>\n",
       "      <td>2021</td>\n",
       "      <td>TV-MA</td>\n",
       "      <td>1 Season</td>\n",
       "      <td>International TV Shows, TV Dramas, TV Thrillers</td>\n",
       "      <td>Seeking to uncover the truth about his past, a...</td>\n",
       "    </tr>\n",
       "    <tr>\n",
       "      <th>1431</th>\n",
       "      <td>s1432</td>\n",
       "      <td>Movie</td>\n",
       "      <td>Stuck Apart</td>\n",
       "      <td>NaN</td>\n",
       "      <td>Engin Günaydın, Haluk Bilginer, Binnur Kaya, Ö...</td>\n",
       "      <td>Turkey</td>\n",
       "      <td>January 8, 2021</td>\n",
       "      <td>2021</td>\n",
       "      <td>TV-MA</td>\n",
       "      <td>97 min</td>\n",
       "      <td>Comedies, Dramas, International Movies</td>\n",
       "      <td>Entrenched in a midlife crisis, Aziz seeks sol...</td>\n",
       "    </tr>\n",
       "  </tbody>\n",
       "</table>\n",
       "</div>"
      ]
     },
     "execution_count": 68,
     "metadata": {},
     "output_type": "execute_result"
    }
   ],
   "execution_count": 68
  },
  {
   "metadata": {
    "ExecuteTime": {
     "end_time": "2024-11-12T14:36:53.084863Z",
     "start_time": "2024-11-12T14:36:53.082700Z"
    }
   },
   "cell_type": "code",
   "source": [
    "if len(turkey_2021) == 0: #if the number is 0, inform the user\n",
    "    print(\"There is no Turkish film in 2021\")\n",
    "else:\n",
    "    print(f\"Number of Turkish films in 2021: {len(turkey_2021)}\") #else give the number"
   ],
   "id": "1fa9a1dd6ac1247",
   "outputs": [
    {
     "name": "stdout",
     "output_type": "stream",
     "text": [
      "Number of Turkish films in 2021: 5\n"
     ]
    }
   ],
   "execution_count": 69
  },
  {
   "metadata": {
    "ExecuteTime": {
     "end_time": "2024-11-12T14:36:53.116589Z",
     "start_time": "2024-11-12T14:36:53.113652Z"
    }
   },
   "cell_type": "code",
   "source": [
    "titles_turkey_2021 = turkey_2021[\"title\"].tolist() #put the titles into a new variable in the list format\n",
    "for title in titles_turkey_2021:\n",
    "    print(title) # print each title"
   ],
   "id": "3212ac92871b5ffa",
   "outputs": [
    {
     "name": "stdout",
     "output_type": "stream",
     "text": [
      "The Gift\n",
      "Fatma\n",
      "Paper Lives\n",
      "50M2\n",
      "Stuck Apart\n"
     ]
    }
   ],
   "execution_count": 70
  },
  {
   "metadata": {},
   "cell_type": "markdown",
   "source": "#### 3. What's the number of movies in 2020 with full information?\n",
   "id": "c5bb223d3bbfff2d"
  },
  {
   "metadata": {
    "ExecuteTime": {
     "end_time": "2024-11-12T14:36:53.177230Z",
     "start_time": "2024-11-12T14:36:53.173649Z"
    }
   },
   "cell_type": "code",
   "source": "print(f\"Number of movies with full information in 2020: {len(df[df['release_year'] == 2020].dropna())}\") #with dropna, we take out the rows with na value",
   "id": "acfcd92a95f9217e",
   "outputs": [
    {
     "name": "stdout",
     "output_type": "stream",
     "text": [
      "Number of movies with full information in 2020: 442\n"
     ]
    }
   ],
   "execution_count": 71
  },
  {
   "metadata": {},
   "cell_type": "markdown",
   "source": "#### 4. Give me the year with more titles,\n",
   "id": "ac0555ea0dfe6bc8"
  },
  {
   "metadata": {
    "ExecuteTime": {
     "end_time": "2024-11-12T14:36:53.202187Z",
     "start_time": "2024-11-12T14:36:53.198635Z"
    }
   },
   "cell_type": "code",
   "source": [
    "most_titles_year = df.groupby('release_year')['title'].count().idxmax() #grouped by release yar, took the column \"title\" with count function and idxmax is used in order to return the maximum index\n",
    "print(f\"The year with the most titles is {most_titles_year} with {df.groupby('release_year')['title'].count().max()} titles.\") #print the index from the previous variable and the use max() to find the value corresponding to the year.\n"
   ],
   "id": "d041eea694ef3fbc",
   "outputs": [
    {
     "name": "stdout",
     "output_type": "stream",
     "text": [
      "The year with the most titles is 2018 with 1147 titles.\n"
     ]
    }
   ],
   "execution_count": 72
  },
  {
   "metadata": {},
   "cell_type": "markdown",
   "source": "#### 5. and what has been the average in terms of releases from 2010. \n",
   "id": "825e2cfa2abbfbc8"
  },
  {
   "metadata": {
    "ExecuteTime": {
     "end_time": "2024-11-12T14:36:53.214867Z",
     "start_time": "2024-11-12T14:36:53.211207Z"
    }
   },
   "cell_type": "code",
   "source": [
    "titles_per_year = df[df[\"release_year\"] >= 2010].groupby('release_year')['title'].count() #group by movies by release year which were out from 2010 and count the titles\n",
    "average_titles = titles_per_year.mean() #calculate the mean \n",
    "print(f\"The average number of releases per year from 2010 is {average_titles:.2f} titles.\")"
   ],
   "id": "c9facd92b0027d51",
   "outputs": [
    {
     "name": "stdout",
     "output_type": "stream",
     "text": [
      "The average number of releases per year from 2010 is 622.67 titles.\n"
     ]
    }
   ],
   "execution_count": 73
  },
  {
   "metadata": {},
   "cell_type": "markdown",
   "source": "### Home Exercises for Titanic",
   "id": "9b62fe476fc735ce"
  },
  {
   "metadata": {
    "ExecuteTime": {
     "end_time": "2024-11-12T14:36:53.306881Z",
     "start_time": "2024-11-12T14:36:53.301047Z"
    }
   },
   "cell_type": "code",
   "source": [
    "path = '/Users/emreozener/Documents/ESADE_MIBA/Python_for_Data_Science/Assignments/Assignment_6/Files/train_and_test2.csv'\n",
    "df_titanic = pd.read_csv(path) #read the Titanic csv using pandas."
   ],
   "id": "ae44bf6018c6eab1",
   "outputs": [],
   "execution_count": 74
  },
  {
   "metadata": {},
   "cell_type": "markdown",
   "source": "#### 1. Calculate Gender-Based Survival Percentage",
   "id": "39619bce1bcee619"
  },
  {
   "metadata": {
    "ExecuteTime": {
     "end_time": "2024-11-12T14:36:53.321358Z",
     "start_time": "2024-11-12T14:36:53.318390Z"
    }
   },
   "cell_type": "code",
   "source": [
    "gender_survival_percentage = df_titanic.groupby('Sex')['2urvived'].mean() * 100 #group by gender and calculate the mean of survival which would correspond to the survival percentage\n",
    "\n",
    "for gender, percent in gender_survival_percentage.items(): #for each row and column print the values\n",
    "    print(f\"Gender {gender}: {percent:.2f}% survival rate\")"
   ],
   "id": "337979627a3d1a41",
   "outputs": [
    {
     "name": "stdout",
     "output_type": "stream",
     "text": [
      "Gender 0: 12.93% survival rate\n",
      "Gender 1: 50.00% survival rate\n"
     ]
    }
   ],
   "execution_count": 75
  },
  {
   "metadata": {},
   "cell_type": "markdown",
   "source": " #### 2. Calculate Survival Percentage Grouped By Gender And Class",
   "id": "40fee14f86efe856"
  },
  {
   "metadata": {
    "ExecuteTime": {
     "end_time": "2024-11-12T14:36:53.400680Z",
     "start_time": "2024-11-12T14:36:53.397188Z"
    }
   },
   "cell_type": "code",
   "source": [
    "grouped_survival_percentage = df_titanic.groupby(['Sex', 'Pclass'])['2urvived'].mean() * 100 #group by both gender and class and repeat the previous question. \n",
    "\n",
    "for (gender, pclass) ,percent in grouped_survival_percentage.items():\n",
    "    print(f\"Gender {gender} that are in class {pclass} has a percentage of {percent:.2f}% survival rate\")"
   ],
   "id": "8c155e3fb6eac7a6",
   "outputs": [
    {
     "name": "stdout",
     "output_type": "stream",
     "text": [
      "Gender 0 that are in class 1 has a percentage of 25.14% survival rate\n",
      "Gender 0 that are in class 2 has a percentage of 9.94% survival rate\n",
      "Gender 0 that are in class 3 has a percentage of 9.53% survival rate\n",
      "Gender 1 that are in class 1 has a percentage of 63.19% survival rate\n",
      "Gender 1 that are in class 2 has a percentage of 66.04% survival rate\n",
      "Gender 1 that are in class 3 has a percentage of 33.33% survival rate\n"
     ]
    }
   ],
   "execution_count": 76
  },
  {
   "metadata": {
    "ExecuteTime": {
     "end_time": "2024-11-12T14:39:40.932319Z",
     "start_time": "2024-11-12T14:39:40.911723Z"
    }
   },
   "cell_type": "code",
   "source": "grouped_survival_percentage",
   "id": "e1ad751b3cc1d892",
   "outputs": [
    {
     "data": {
      "text/plain": [
       "Sex  Pclass\n",
       "0    1         25.139665\n",
       "     2          9.941520\n",
       "     3          9.533469\n",
       "1    1         63.194444\n",
       "     2         66.037736\n",
       "     3         33.333333\n",
       "Name: 2urvived, dtype: float64"
      ]
     },
     "execution_count": 79,
     "metadata": {},
     "output_type": "execute_result"
    }
   ],
   "execution_count": 79
  },
  {
   "metadata": {},
   "cell_type": "code",
   "outputs": [],
   "execution_count": null,
   "source": "",
   "id": "cf3887d3e02ab0b7"
  }
 ],
 "metadata": {
  "kernelspec": {
   "display_name": "Python 3",
   "language": "python",
   "name": "python3"
  },
  "language_info": {
   "codemirror_mode": {
    "name": "ipython",
    "version": 2
   },
   "file_extension": ".py",
   "mimetype": "text/x-python",
   "name": "python",
   "nbconvert_exporter": "python",
   "pygments_lexer": "ipython2",
   "version": "2.7.6"
  }
 },
 "nbformat": 4,
 "nbformat_minor": 5
}

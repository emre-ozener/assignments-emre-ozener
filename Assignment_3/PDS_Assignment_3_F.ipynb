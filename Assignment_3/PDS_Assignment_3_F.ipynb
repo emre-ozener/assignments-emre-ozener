{
 "cells": [
  {
   "cell_type": "markdown",
   "metadata": {},
   "source": [
    "## Object Oriented programming\n",
    "### Hands on\n",
    "\n",
    "Let's design a course registration system, where the requirements will be:\n",
    "\n",
    "1. Create a **Course** class, where each course has a name, a description and a list of enrolled students. You'll need to implement the next methods:\n",
    "    - Add a student to the course.\n",
    "    - Remove a student from the course.\n",
    "    - Show all students in the course."
   ]
  },
  {
   "cell_type": "code",
   "execution_count": 1,
   "metadata": {},
   "outputs": [],
   "source": [
    "class Course:\n",
    "    def __init__(self, name, course_type):\n",
    "        self.students = [] #creates a list that is empty to store the students that each course has\n",
    "        self.name = name\n",
    "        self.course_type = course_type\n",
    "\n",
    "    def add_student(self, student):\n",
    "        if student not in self.students:\n",
    "            self.students.append(student)\n",
    "        else: \n",
    "            print(f\"{student} is already in this class.\") #notifying the user when the student is already enrolled\n",
    "\n",
    "    def remove_student(self, student):\n",
    "        if student in self.students:\n",
    "            self.students.remove(student)\n",
    "        else:\n",
    "            print(f\"{student} is already removed or never has been registered to this class.\") #notyfying the user when the student is already removed.\n",
    "\n",
    "    def show_students(self):\n",
    "        if len(self.students) > 0: #checking if there is anyone in the course\n",
    "            print(f\"Currently Registered Students for {self.name}:\")\n",
    "            for student in self.students:\n",
    "                print(student)\n",
    "        else: \n",
    "            print(f\"{self.name} currently doesn't have any students.\")"
   ]
  },
  {
   "cell_type": "code",
   "execution_count": 2,
   "metadata": {},
   "outputs": [],
   "source": [
    "#Adding courses\n",
    "course_1 = Course(\"PDS\" , \"MIBA Must Course\")\n",
    "course_2 = Course(\"Competing with AI\" , \"MIBA Must Course\")\n",
    "course_3 = Course(\"Advanced Excel\" , \"Esade Skill Seminar\")\n",
    "course_4 = Course(\"Advanced Python\" , \"Esade Elective\") "
   ]
  },
  {
   "cell_type": "code",
   "execution_count": 3,
   "metadata": {},
   "outputs": [],
   "source": [
    "#Adding students\n",
    "course_1.add_student(\"Bora Ozen\")\n",
    "course_1.add_student(\"Emirhan Veziroglu\")\n",
    "course_1.add_student(\"Ahmet Ilten\")\n",
    "\n",
    "course_2.add_student(\"Bora Ozen\")\n",
    "course_2.add_student(\"Emirhan Veziroglu\")\n"
   ]
  },
  {
   "cell_type": "code",
   "execution_count": 4,
   "metadata": {},
   "outputs": [
    {
     "name": "stdout",
     "output_type": "stream",
     "text": [
      "Bora Ozen is already in this class.\n"
     ]
    }
   ],
   "source": [
    "#Trying to add a existing student to the course\n",
    "course_1.add_student(\"Bora Ozen\")"
   ]
  },
  {
   "cell_type": "code",
   "execution_count": 5,
   "metadata": {},
   "outputs": [],
   "source": [
    "#Removing student from the course\n",
    "course_2.remove_student(\"Emirhan Veziroglu\")"
   ]
  },
  {
   "cell_type": "code",
   "execution_count": 6,
   "metadata": {},
   "outputs": [
    {
     "name": "stdout",
     "output_type": "stream",
     "text": [
      "Emirhan Veziroglu is already removed or never has been registered to this class.\n"
     ]
    }
   ],
   "source": [
    "#Removing an already removed student \n",
    "course_2.remove_student(\"Emirhan Veziroglu\")"
   ]
  },
  {
   "cell_type": "code",
   "execution_count": 7,
   "metadata": {},
   "outputs": [
    {
     "name": "stdout",
     "output_type": "stream",
     "text": [
      "Currently Registered Students for PDS:\n",
      "Bora Ozen\n",
      "Emirhan Veziroglu\n",
      "Ahmet Ilten\n",
      "Currently Registered Students for Competing with AI:\n",
      "Bora Ozen\n",
      "Advanced Excel currently doesn't have any students.\n"
     ]
    }
   ],
   "source": [
    "#Showing the students in the courses\n",
    "course_1.show_students()\n",
    "course_2.show_students()\n",
    "#When there is no student in the course\n",
    "course_3.show_students()"
   ]
  },
  {
   "cell_type": "markdown",
   "metadata": {},
   "source": [
    "## Object Oriented programming\n",
    "### Hands on\n",
    "\n",
    "2. Create a **Student** class, where each student has a name, ID number, address and a list of enrolled courses with the following methods:\n",
    "    - Enroll in a course.\n",
    "    - Drop a course.\n",
    "    - Show all registered student courses."
   ]
  },
  {
   "cell_type": "code",
   "execution_count": 8,
   "metadata": {},
   "outputs": [],
   "source": [
    "class Student:\n",
    "    def __init__(self, name, student_id, address=None): #Address is optional\n",
    "        self.courses = [] #empty list that tracks every course that the student is enrolled to\n",
    "        self.name = name\n",
    "        self.student_id = student_id\n",
    "        self.address = address\n",
    "\n",
    "    def enroll(self, course):\n",
    "        if course not in self.courses:\n",
    "            self.courses.append(course)\n",
    "        else: \n",
    "            print(f\"{self.name} is already enrolled in {course}\") #Notfying the user when the student is already enrolled in the course\n",
    "\n",
    "    def drop(self, course):\n",
    "        if course in self.courses:\n",
    "            self.courses.remove(course)\n",
    "        else:\n",
    "            print(f\"{self.name} has already dropped {course}\") #Notfying the user when the student already dropped the class\n",
    "\n",
    "    def show_courses(self):\n",
    "        if len(self.courses) > 0: #checks if the student already enrolled in to any class\n",
    "            print(f\"All Courses that {self.name} enrolled: \")\n",
    "            for course in self.courses:\n",
    "                print(course)\n",
    "        else:\n",
    "            print(f\"{self.name} has not enrolled to any class.\")"
   ]
  },
  {
   "cell_type": "code",
   "execution_count": 9,
   "metadata": {},
   "outputs": [],
   "source": [
    "#Adding Students\n",
    "student_1 = Student(\"Emre Ozener\" , 10001 , \"Pau Claris 185\")\n",
    "student_2 = Student(\"Endi Rizo\" , 10002 , \"Sant Antoni Abat 46\")\n",
    "#Adding a student that doesn't have an address\n",
    "student_3 = Student(\"Albert Sans Riu\" , 10003)"
   ]
  },
  {
   "cell_type": "code",
   "execution_count": 10,
   "metadata": {},
   "outputs": [],
   "source": [
    "#Adding Courses (enrolling)\n",
    "student_1.enroll(\"Marketing Decisions\")\n",
    "student_1.enroll(\"Microeconomics\")\n",
    "student_1.enroll(\"Financial Markets\")\n",
    "\n",
    "student_2.enroll(\"Marketing Decisions\")\n",
    "student_2.enroll(\"Microeconomics\")"
   ]
  },
  {
   "cell_type": "code",
   "execution_count": 11,
   "metadata": {},
   "outputs": [
    {
     "name": "stdout",
     "output_type": "stream",
     "text": [
      "Emre Ozener is already enrolled in Marketing Decisions\n"
     ]
    }
   ],
   "source": [
    "#Trying to enroll a student again\n",
    "student_1.enroll(\"Marketing Decisions\")"
   ]
  },
  {
   "cell_type": "code",
   "execution_count": 12,
   "metadata": {},
   "outputs": [],
   "source": [
    "#Removing a course (dropping)\n",
    "student_1.drop(\"Marketing Decisions\")"
   ]
  },
  {
   "cell_type": "code",
   "execution_count": 13,
   "metadata": {},
   "outputs": [
    {
     "name": "stdout",
     "output_type": "stream",
     "text": [
      "Emre Ozener has already dropped Marketing Decisions\n"
     ]
    }
   ],
   "source": [
    "#Trying to drop a class again\n",
    "student_1.drop(\"Marketing Decisions\")"
   ]
  },
  {
   "cell_type": "code",
   "execution_count": 14,
   "metadata": {},
   "outputs": [
    {
     "name": "stdout",
     "output_type": "stream",
     "text": [
      "All Courses that Emre Ozener enrolled: \n",
      "Microeconomics\n",
      "Financial Markets\n",
      "Albert Sans Riu has not enrolled to any class.\n"
     ]
    }
   ],
   "source": [
    "#Showing all the courses that the student is enrolled to\n",
    "student_1.show_courses()\n",
    "#When the student didn't enroll to any class\n",
    "student_3.show_courses()"
   ]
  },
  {
   "cell_type": "markdown",
   "metadata": {},
   "source": [
    "## Object Oriented programming\n",
    "### Hands on\n",
    "\n",
    "3. Create a central class that manages courses and students, **Registration** class, where you have a list of students and a list of courses, and methods:\n",
    "    - Enroll in a course.\n",
    "    - Drop a course.\n",
    "    - Show all the enrolled courses.\n",
    "    - Show all the students."
   ]
  },
  {
   "cell_type": "code",
   "execution_count": 15,
   "metadata": {},
   "outputs": [],
   "source": [
    "class Registration:\n",
    "    def __init__(self):\n",
    "        self.students = [] \n",
    "        self.courses = [] #There are two empty lists that store the students and courses\n",
    "\n",
    "    def enroll_student_in_course(self, student, course):\n",
    "        if student not in self.students:\n",
    "            self.students.append(student)\n",
    "        if course not in self.courses:\n",
    "            self.courses.append(course)\n",
    "        student.enroll(course.name) #calls the method in the Student class which enrolls the student into the course\n",
    "        course.add_student(student.name) #calls the method in the Course class which adds student into the course\n",
    "\n",
    "    def drop_student_from_course(self, student, course):\n",
    "        student.drop(course.name) #calls the method in the Student class which drops the student.\n",
    "        course.remove_student(student.name) #calls the method in the Course class which remove the student.\n",
    "\n",
    "    def show_all_courses(self):\n",
    "        print(\"All Courses:\")\n",
    "        for course in self.courses:\n",
    "            print(course.name)\n",
    "\n",
    "    def show_all_students(self):\n",
    "        print(\"All Students:\")\n",
    "        for student in self.students:\n",
    "            print(student.name)\n"
   ]
  },
  {
   "cell_type": "code",
   "execution_count": 16,
   "metadata": {},
   "outputs": [],
   "source": [
    "Esade_Registration = Registration()\n",
    "#Enroll a existing student into an existing course\n",
    "Esade_Registration.enroll_student_in_course(student_3 , course_3)"
   ]
  },
  {
   "cell_type": "code",
   "execution_count": 17,
   "metadata": {},
   "outputs": [
    {
     "name": "stdout",
     "output_type": "stream",
     "text": [
      "Currently Registered Students for Advanced Excel:\n",
      "Albert Sans Riu\n",
      "All Courses that Albert Sans Riu enrolled: \n",
      "Advanced Excel\n"
     ]
    }
   ],
   "source": [
    "#Checking if previous classes recorded the enrollment\n",
    "course_3.show_students()\n",
    "student_3.show_courses()"
   ]
  },
  {
   "cell_type": "code",
   "execution_count": 18,
   "metadata": {},
   "outputs": [],
   "source": [
    "#Drop a course\n",
    "Esade_Registration.drop_student_from_course(student_3 , course_3)"
   ]
  },
  {
   "cell_type": "code",
   "execution_count": 19,
   "metadata": {},
   "outputs": [
    {
     "name": "stdout",
     "output_type": "stream",
     "text": [
      "Advanced Excel currently doesn't have any students.\n",
      "Albert Sans Riu has not enrolled to any class.\n"
     ]
    }
   ],
   "source": [
    "#Checking if previous classes recorded dropping the class\n",
    "course_3.show_students()\n",
    "student_3.show_courses()"
   ]
  },
  {
   "cell_type": "code",
   "execution_count": 20,
   "metadata": {},
   "outputs": [
    {
     "name": "stdout",
     "output_type": "stream",
     "text": [
      "All Courses:\n",
      "Advanced Excel\n",
      "PDS\n",
      "Competing with AI\n",
      "Business in Society\n",
      "Marketing Trends\n",
      "Macroeconomics\n",
      "All Students:\n",
      "Albert Sans Riu\n",
      "Ceren Dide\n",
      "Aldric Van Keer\n",
      "Emre Ozener\n"
     ]
    }
   ],
   "source": [
    "#Registering students to the courses in order to test the show_all_students and show_all_courses\n",
    "course_5 = Course(\"Business in Society\" , \"Must course for every MSc program at Esade\")\n",
    "course_6 = Course(\"Macroeconomics\" , \"Undergrad Class\")\n",
    "course_7 = Course(\"Marketing Trends\" , \"Marketing Class\")\n",
    "\n",
    "student_4 = Student(\"Ceren Dide\" , 10004, \"Chicago\")\n",
    "student_5 = Student(\"Aldric Van Keer\" , 10005 , \"France\")\n",
    "\n",
    "Esade_Registration.enroll_student_in_course(student_4 , course_1)\n",
    "Esade_Registration.enroll_student_in_course(student_4 , course_2)\n",
    "Esade_Registration.enroll_student_in_course(student_4 , course_3)\n",
    "\n",
    "Esade_Registration.enroll_student_in_course(student_5 , course_5)\n",
    "Esade_Registration.enroll_student_in_course(student_5 , course_3)\n",
    "Esade_Registration.enroll_student_in_course(student_5 , course_7)\n",
    "\n",
    "Esade_Registration.enroll_student_in_course(student_1 , course_5)\n",
    "Esade_Registration.enroll_student_in_course(student_1 , course_6)\n",
    "Esade_Registration.enroll_student_in_course(student_1 , course_7)\n",
    "\n",
    "Esade_Registration.show_all_courses()\n",
    "Esade_Registration.show_all_students()\n"
   ]
  },
  {
   "cell_type": "markdown",
   "metadata": {},
   "source": [
    "## Object Oriented programming\n",
    "### Howework\n",
    "\n",
    "4. Let's add grades to each student's course and create method that yields the GPA given a student name or ID."
   ]
  },
  {
   "cell_type": "code",
   "execution_count": 21,
   "metadata": {},
   "outputs": [],
   "source": [
    "### --- Previous Classes are copy pasted starting from here --->\n",
    "\n",
    "class Course:\n",
    "    def __init__(self, name, course_type):\n",
    "        self.students = []\n",
    "        self.name = name\n",
    "        self.course_type = course_type\n",
    "\n",
    "    def add_student(self, student):\n",
    "        if student not in self.students:\n",
    "            self.students.append(student)\n",
    "        else: \n",
    "            print(f\"{student} is already in this class.\")\n",
    "\n",
    "    def remove_student(self, student):\n",
    "        if student in self.students:\n",
    "            self.students.remove(student)\n",
    "        else:\n",
    "            print(f\"{student} is already removed or never has been registered to this class.\")\n",
    "\n",
    "    def show_students(self):\n",
    "        if len(self.students) > 0:\n",
    "            print(f\"Currently Registered Students for {self.name}:\")\n",
    "            for student in self.students:\n",
    "                print(student)\n",
    "        else: \n",
    "            print(f\"{self.name} currently doesn't have any students.\")\n",
    "\n",
    "class Student:\n",
    "    def __init__(self, name, student_id, address=None):\n",
    "        self.courses = []\n",
    "        self.name = name\n",
    "        self.student_id = student_id\n",
    "        self.address = address\n",
    "\n",
    "    def enroll(self, course):\n",
    "        if course not in self.courses:\n",
    "            self.courses.append(course)\n",
    "        else: \n",
    "            print(f\"{self.name} is already enrolled in {course}\")\n",
    "\n",
    "    def drop(self, course):\n",
    "        if course in self.courses:\n",
    "            self.courses.remove(course)\n",
    "        else:\n",
    "            print(f\"{self.name} has already dropped {course}\")\n",
    "\n",
    "    def show_courses(self):\n",
    "        if len(self.courses) > 0:\n",
    "            print(f\"All Courses that {self.name} enrolled: \")\n",
    "            for course in self.courses:\n",
    "                print(course)\n",
    "        else:\n",
    "            print(f\"{self.name} has not enrolled to any class.\")\n",
    "\n",
    "### <--- till here. \n",
    "\n",
    "\n",
    "class Registration:\n",
    "    def __init__(self):\n",
    "        self.students = []\n",
    "        self.courses = []\n",
    "        self.grades = {} #Adding an additional list that store the grades in a dictionary for student for specific course.\n",
    "\n",
    "    def enroll_student_in_course(self, student, course):\n",
    "        if student not in self.students:\n",
    "            self.students.append(student)\n",
    "        if course not in self.courses:\n",
    "            self.courses.append(course)\n",
    "        student.enroll(course.name)\n",
    "        course.add_student(student.name)\n",
    "\n",
    "    def drop_student_from_course(self, student, course):\n",
    "        student.drop(course)\n",
    "        course.remove_student(student.name)\n",
    "\n",
    "    def show_all_courses(self):\n",
    "        print(\"All Courses:\")\n",
    "        for course in self.courses:\n",
    "            print(course.name)\n",
    "\n",
    "    def show_all_students(self):\n",
    "        print(\"All Students:\")\n",
    "        for student in self.students:\n",
    "            print(student.name)\n",
    "\n",
    "    def student_grade(self, student, course, grade):\n",
    "        if grade<0:\n",
    "            print(\"Please enter a valid grade.\")\n",
    "        else:\n",
    "            self.grades[(student.student_id, course.name)] = grade #keys are the student_id and the name of the course while the value is grade. Including both student_id and course name is important \n",
    "            #because we are working in the class that stores data from each student and each course unlike the objects in the Student and Course class. \n",
    "\n",
    "\n",
    "    def student_id_name_matcher(self, student_key): #In order to satisfy the condition of the question which is entering student's either name or id to calculate the gpa, this method helps to identify the student based on the id or name.\n",
    "        for student in self.students: \n",
    "            if student.student_id == student_key or student.name == student_key: \n",
    "                return student #goes over each element in the self.students and if name or id matches with the student_key entered, returns the student.\n",
    "        else:\n",
    "            return None #If cannot found, returns None\n",
    "    \n",
    "    def gpa_calculator(self, student_key):\n",
    "        \n",
    "        student = self.student_id_name_matcher(student_key) #Determines the student based on the previous method\n",
    "        if student is None:\n",
    "            print(f\"Student with ID or name '{student_key}' is not found.\") #If the student is not found, informs the user\n",
    "            return None\n",
    "\n",
    "        total_grades = 0\n",
    "        number_of_courses = 0\n",
    "        for course in student.courses:\n",
    "            key = (student.student_id, course) #creates a key with the determined student id and each course(through for loop)\n",
    "            if key in self.grades:\n",
    "                total_grades += self.grades[key] #Adds up all the grades that the student earned in the each class he/she received a grade\n",
    "                number_of_courses += 1\n",
    "\n",
    "        if number_of_courses > 0: #Checks if the student has any course that she/he received a grade.\n",
    "            print(f\"{student.name} has the GPA: {total_grades / number_of_courses}\")\n",
    "        else:\n",
    "            print(f\"No grades available to calculate GPA for {student.name}.\")\n",
    "\n",
    "\n",
    "\n"
   ]
  },
  {
   "cell_type": "code",
   "execution_count": 22,
   "metadata": {},
   "outputs": [],
   "source": [
    "#Creating a new object\n",
    "Esade_Registration_GPA = Registration()"
   ]
  },
  {
   "cell_type": "code",
   "execution_count": 23,
   "metadata": {},
   "outputs": [
    {
     "name": "stdout",
     "output_type": "stream",
     "text": [
      "Ceren Dide is already enrolled in PDS\n",
      "Ceren Dide is already in this class.\n",
      "Ceren Dide is already enrolled in Competing with AI\n",
      "Ceren Dide is already in this class.\n",
      "Ceren Dide is already enrolled in Advanced Excel\n",
      "Ceren Dide is already in this class.\n",
      "Aldric Van Keer is already enrolled in Business in Society\n",
      "Aldric Van Keer is already in this class.\n",
      "Aldric Van Keer is already enrolled in Advanced Excel\n",
      "Aldric Van Keer is already in this class.\n",
      "Aldric Van Keer is already enrolled in Marketing Trends\n",
      "Aldric Van Keer is already in this class.\n",
      "Emre Ozener is already enrolled in Business in Society\n",
      "Emre Ozener is already in this class.\n",
      "Emre Ozener is already enrolled in Macroeconomics\n",
      "Emre Ozener is already in this class.\n",
      "Emre Ozener is already enrolled in Marketing Trends\n",
      "Emre Ozener is already in this class.\n",
      "Please enter a valid grade.\n"
     ]
    }
   ],
   "source": [
    "#Enrolling students to courses\n",
    "\n",
    "Esade_Registration_GPA.enroll_student_in_course(student_4 , course_1)\n",
    "Esade_Registration_GPA.enroll_student_in_course(student_4 , course_2)\n",
    "Esade_Registration_GPA.enroll_student_in_course(student_4 , course_3)\n",
    "\n",
    "Esade_Registration_GPA.enroll_student_in_course(student_5 , course_5)\n",
    "Esade_Registration_GPA.enroll_student_in_course(student_5 , course_3)\n",
    "Esade_Registration_GPA.enroll_student_in_course(student_5 , course_7)\n",
    "\n",
    "Esade_Registration_GPA.enroll_student_in_course(student_1 , course_5)\n",
    "Esade_Registration_GPA.enroll_student_in_course(student_1 , course_6)\n",
    "Esade_Registration_GPA.enroll_student_in_course(student_1 , course_7)\n",
    "\n",
    "#Assigning grades to students\n",
    "\n",
    "Esade_Registration_GPA.student_grade(student_4 , course_1 , 10)\n",
    "Esade_Registration_GPA.student_grade(student_4 , course_2 , 7.5)\n",
    "Esade_Registration_GPA.student_grade(student_4 , course_3 , 6)\n",
    "\n",
    "Esade_Registration_GPA.student_grade(student_5 , course_5 , 3.5)\n",
    "Esade_Registration_GPA.student_grade(student_5 , course_3 , 6)\n",
    "Esade_Registration_GPA.student_grade(student_5 , course_7 , 5)\n",
    "\n",
    "Esade_Registration_GPA.student_grade(student_1 , course_5 , 8)\n",
    "Esade_Registration_GPA.student_grade(student_1 , course_6 , 8)\n",
    "Esade_Registration_GPA.student_grade(student_1 , course_7 , 8)\n",
    "\n",
    "#Trying to assign a negative grade \n",
    "\n",
    "Esade_Registration_GPA.student_grade(student_3 ,course_5, -5)\n"
   ]
  },
  {
   "cell_type": "code",
   "execution_count": 24,
   "metadata": {},
   "outputs": [
    {
     "name": "stdout",
     "output_type": "stream",
     "text": [
      "Emre Ozener has the GPA: 8.0\n",
      "Aldric Van Keer has the GPA: 4.833333333333333\n",
      "Ceren Dide has the GPA: 7.833333333333333\n",
      "Student with ID or name 'Njklbnıuabvf' is not found.\n",
      "No grades available to calculate GPA for Endi Rizo.\n"
     ]
    }
   ],
   "source": [
    "#Calculating GPA for the students that have been added\n",
    "\n",
    "Esade_Registration_GPA.gpa_calculator(10001)\n",
    "Esade_Registration_GPA.gpa_calculator(\"Aldric Van Keer\")\n",
    "Esade_Registration_GPA.gpa_calculator(\"Ceren Dide\")\n",
    "\n",
    "#Testing for a identifier that doesn't exist\n",
    "Esade_Registration_GPA.gpa_calculator(\"Njklbnıuabvf\")\n",
    "\n",
    "#Testing for a student that doesn't have a grade\n",
    "Esade_Registration_GPA.enroll_student_in_course(student_2 , course_3)\n",
    "Esade_Registration_GPA.gpa_calculator(\"Endi Rizo\")"
   ]
  },
  {
   "cell_type": "code",
   "execution_count": null,
   "metadata": {},
   "outputs": [],
   "source": []
  }
 ],
 "metadata": {
  "kernelspec": {
   "display_name": ".venv",
   "language": "python",
   "name": "python3"
  },
  "language_info": {
   "codemirror_mode": {
    "name": "ipython",
    "version": 3
   },
   "file_extension": ".py",
   "mimetype": "text/x-python",
   "name": "python",
   "nbconvert_exporter": "python",
   "pygments_lexer": "ipython3",
   "version": "3.10.15"
  }
 },
 "nbformat": 4,
 "nbformat_minor": 2
}

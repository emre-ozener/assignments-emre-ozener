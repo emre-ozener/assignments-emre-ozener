{
 "cells": [
  {
   "cell_type": "markdown",
   "metadata": {},
   "source": [
    "Exercise 1"
   ]
  },
  {
   "cell_type": "code",
   "execution_count": 1,
   "metadata": {},
   "outputs": [
    {
     "name": "stdout",
     "output_type": "stream",
     "text": [
      "Hello, Python\n"
     ]
    }
   ],
   "source": [
    "print(\"Hello, Python!\")"
   ]
  },
  {
   "cell_type": "markdown",
   "metadata": {},
   "source": [
    "Exercise 2"
   ]
  },
  {
   "cell_type": "code",
   "execution_count": 2,
   "metadata": {},
   "outputs": [
    {
     "name": "stdout",
     "output_type": "stream",
     "text": [
      "15\n",
      "-5\n",
      "50\n",
      "0.5\n"
     ]
    }
   ],
   "source": [
    "a = 5\n",
    "b = 10\n",
    "print(a+b)\n",
    "print(a-b)\n",
    "print(a*b)\n",
    "print(a/b)\n"
   ]
  },
  {
   "cell_type": "markdown",
   "metadata": {},
   "source": [
    "Exercise 3"
   ]
  },
  {
   "cell_type": "code",
   "execution_count": 4,
   "metadata": {},
   "outputs": [
    {
     "name": "stdout",
     "output_type": "stream",
     "text": [
      "Hello, Emre\n"
     ]
    }
   ],
   "source": [
    "name = \"Emre\"\n",
    "print(f\"Hello, {name}\")"
   ]
  },
  {
   "cell_type": "markdown",
   "metadata": {},
   "source": [
    "Exercise 4"
   ]
  },
  {
   "cell_type": "code",
   "execution_count": 5,
   "metadata": {},
   "outputs": [
    {
     "name": "stdout",
     "output_type": "stream",
     "text": [
      "['Esade', 'IE', 'IESE', 'UPF', 'UAB']\n",
      "Esade UAB\n"
     ]
    }
   ],
   "source": [
    "universities = [\"Esade\" , \"IE\" , \"IESE\" , \"UPF\" , \"UAB\"]\n",
    "print(universities)\n",
    "print(universities[0] + \" \" + universities[-1])"
   ]
  },
  {
   "cell_type": "markdown",
   "metadata": {},
   "source": [
    "Exercise 5"
   ]
  },
  {
   "cell_type": "code",
   "execution_count": 23,
   "metadata": {},
   "outputs": [
    {
     "name": "stdout",
     "output_type": "stream",
     "text": [
      "The name of the student is Emre\n",
      "The age of the student is 23\n",
      "The grade of the student is 8\n"
     ]
    }
   ],
   "source": [
    "student = {\"name\":\"Emre\" , \"age\":23 , \"grade\":8}\n",
    "\n",
    "for x in student:\n",
    "    print(f\"The {x} of the student is {student[x]}\")"
   ]
  },
  {
   "cell_type": "markdown",
   "metadata": {},
   "source": [
    "Exercise 6"
   ]
  },
  {
   "cell_type": "code",
   "execution_count": 31,
   "metadata": {},
   "outputs": [
    {
     "name": "stdout",
     "output_type": "stream",
     "text": [
      "(10, 2)\n",
      "10\n",
      "2\n"
     ]
    }
   ],
   "source": [
    "coordinates = (10,2)\n",
    "tuple(coordinates)\n",
    "print(coordinates)\n",
    "print(coordinates[0])\n",
    "print(coordinates[1])\n"
   ]
  },
  {
   "cell_type": "markdown",
   "metadata": {},
   "source": [
    "Exercise 7"
   ]
  },
  {
   "cell_type": "code",
   "execution_count": 69,
   "metadata": {},
   "outputs": [
    {
     "name": "stdout",
     "output_type": "stream",
     "text": [
      "{'green', 'navy', 'red', 'blue'}\n",
      "{'green', 'navy', 'blue'}\n",
      "{'blue', 'navy', 'light green', 'light blue', 'green'}\n"
     ]
    }
   ],
   "source": [
    "colors = {\"red\" , \"green\" , \"blue\"}\n",
    "colors.add(\"navy\")\n",
    "colors.add(\"red\")\n",
    "print(colors)\n",
    "colors.remove(\"red\")\n",
    "print(colors)\n",
    "light_colors = {\"light blue\" , \"light green\"}\n",
    "colors = colors.union(light_colors)\n",
    "print(colors)\n",
    "\n",
    "\n"
   ]
  },
  {
   "cell_type": "markdown",
   "metadata": {},
   "source": [
    "Exercise 8"
   ]
  },
  {
   "cell_type": "code",
   "execution_count": 74,
   "metadata": {},
   "outputs": [
    {
     "name": "stdout",
     "output_type": "stream",
     "text": [
      "The number is negative\n"
     ]
    }
   ],
   "source": [
    "num = float(input(\"Enter a number: \"))\n",
    "if num > 0:\n",
    "    print(\"The number entered is positive.\")\n",
    "elif num < 0:\n",
    "    print(\"The number is negative\")\n",
    "else:\n",
    "    print(\"The number is zero.\")"
   ]
  },
  {
   "cell_type": "markdown",
   "metadata": {},
   "source": [
    "Exercise 9"
   ]
  },
  {
   "cell_type": "code",
   "execution_count": 75,
   "metadata": {},
   "outputs": [
    {
     "name": "stdout",
     "output_type": "stream",
     "text": [
      "1\n",
      "2\n",
      "3\n",
      "4\n",
      "5\n"
     ]
    }
   ],
   "source": [
    "num_list = [1,2,3,4,5]\n",
    "for i in num_list:\n",
    "    print(i)"
   ]
  },
  {
   "cell_type": "markdown",
   "metadata": {},
   "source": [
    "Exercise 10"
   ]
  },
  {
   "cell_type": "code",
   "execution_count": 78,
   "metadata": {},
   "outputs": [
    {
     "name": "stdout",
     "output_type": "stream",
     "text": [
      "1\n",
      "2\n",
      "3\n",
      "4\n",
      "5\n"
     ]
    }
   ],
   "source": [
    "counter = 1\n",
    "\n",
    "while counter <= 5:\n",
    "    print(counter)\n",
    "    counter = counter + 1"
   ]
  },
  {
   "cell_type": "markdown",
   "metadata": {},
   "source": [
    "Exercise 11"
   ]
  },
  {
   "cell_type": "code",
   "execution_count": 85,
   "metadata": {},
   "outputs": [
    {
     "name": "stdout",
     "output_type": "stream",
     "text": [
      "Excellent!\n"
     ]
    }
   ],
   "source": [
    "grade = input(\"Enter your grade: \")\n",
    "grade = grade.capitalize()\n",
    "\n",
    "match grade:\n",
    "    case \"A\":\n",
    "        print(\"Excellent!\")\n",
    "    case \"B\":\n",
    "        print(\"Good job!\")\n",
    "    case \"C\":\n",
    "        print(\"Fair.\")\n",
    "    case \"D\":\n",
    "        print(\"Needs improvement.\")\n",
    "    case \"F\":\n",
    "        print(\"Failing.\")\n",
    "    case _:\n",
    "        print(f\"The '{grade}' is not a grade. Please re-enter your grade.\")"
   ]
  },
  {
   "cell_type": "markdown",
   "metadata": {},
   "source": [
    "Exercise 12"
   ]
  },
  {
   "cell_type": "code",
   "execution_count": 86,
   "metadata": {},
   "outputs": [
    {
     "name": "stdout",
     "output_type": "stream",
     "text": [
      "Hello , Emre!\n"
     ]
    }
   ],
   "source": [
    "def greet(name):\n",
    "    print(f\"Hello , {name}!\")\n",
    "\n",
    "greet(\"Emre\")"
   ]
  },
  {
   "cell_type": "markdown",
   "metadata": {},
   "source": [
    "Exercise 13"
   ]
  },
  {
   "cell_type": "code",
   "execution_count": 91,
   "metadata": {},
   "outputs": [
    {
     "name": "stdout",
     "output_type": "stream",
     "text": [
      "4\n",
      "0\n",
      "25\n"
     ]
    }
   ],
   "source": [
    "def square(number):\n",
    "    return number**2\n",
    "\n",
    "print(square(2))\n",
    "print(square(0))\n",
    "print(square(5))\n"
   ]
  },
  {
   "cell_type": "markdown",
   "metadata": {},
   "source": [
    "Exercise 14"
   ]
  },
  {
   "cell_type": "code",
   "execution_count": 7,
   "metadata": {},
   "outputs": [
    {
     "name": "stdout",
     "output_type": "stream",
     "text": [
      "10\n",
      "2\n"
     ]
    }
   ],
   "source": [
    "def multiply(x,y=1):\n",
    "    return x * y\n",
    "\n",
    "print(multiply(5,2))\n",
    "print(multiply(2))"
   ]
  },
  {
   "cell_type": "markdown",
   "metadata": {},
   "source": [
    "Exercise 15\n"
   ]
  },
  {
   "cell_type": "code",
   "execution_count": 5,
   "metadata": {},
   "outputs": [
    {
     "name": "stdout",
     "output_type": "stream",
     "text": [
      "[1, 4, 9, 16, 25, 36, 49, 64, 81, 100]\n"
     ]
    }
   ],
   "source": [
    "num_list = [1,2,3,4,5,6,7,8,9,10]\n",
    "\n",
    "num_list_sq = [num ** 2 for num in num_list]\n",
    "print(num_list_sq)"
   ]
  },
  {
   "cell_type": "markdown",
   "metadata": {},
   "source": [
    "Exercise 16"
   ]
  },
  {
   "cell_type": "code",
   "execution_count": 3,
   "metadata": {},
   "outputs": [
    {
     "name": "stdout",
     "output_type": "stream",
     "text": [
      "The student, Emre, has an average of 7.0.\n",
      "The student, Albert, has an average of 7.0.\n",
      "The student, Defne, has an average of 8.666666666666666.\n"
     ]
    }
   ],
   "source": [
    "student_grades = {\"Emre\": {\"Math\":5 , \"Literature\":9 , \"Biology\":7}, \n",
    "                  \"Albert\": {\"Math\":5 , \"Literature\":10 , \"Biology\":6},\n",
    "                   \"Defne\": {\"Math\":10, \"Literature\":9 , \"Biology\":7} }\n",
    "\n",
    "def gpa_calc(class_list):\n",
    "    for student in class_list:\n",
    "        total_grade = 0\n",
    "        count_class = 0\n",
    "        for grade in class_list[student].values():\n",
    "            total_grade += grade\n",
    "            count_class += 1\n",
    "        average = total_grade / count_class\n",
    "        print(f\"The student, {student}, has an average of {average}.\")\n",
    "\n",
    "gpa_calc(student_grades)\n",
    "            "
   ]
  },
  {
   "cell_type": "markdown",
   "metadata": {},
   "source": [
    "Exercise 17"
   ]
  },
  {
   "cell_type": "code",
   "execution_count": 1,
   "metadata": {},
   "outputs": [
    {
     "data": {
      "text/plain": [
       "50.0"
      ]
     },
     "execution_count": 1,
     "metadata": {},
     "output_type": "execute_result"
    }
   ],
   "source": [
    "num_input = float(input(\"Enter the first number: \"))\n",
    "num_input_2 = float(input(\"Enter the second number: \"))\n",
    "operator_input = input(\"Enter the operator: \")\n",
    "\n",
    "def calculator(num_a , num_b , operator):\n",
    "    if operator == \"+\":\n",
    "        return num_a + num_b\n",
    "    elif operator == \"-\":\n",
    "        return num_a - num_b\n",
    "    elif operator == \"*\":\n",
    "        return num_a * num_b\n",
    "    elif operator == \"/\":\n",
    "        return num_a / num_b\n",
    "    else:\n",
    "        print(\"The operator you entered is not correct. Please re-enter the operator.\")\n",
    "\n",
    "calculator(num_input , num_input_2 , operator_input)"
   ]
  },
  {
   "cell_type": "code",
   "execution_count": null,
   "metadata": {},
   "outputs": [],
   "source": []
  }
 ],
 "metadata": {
  "kernelspec": {
   "display_name": "Python 3",
   "language": "python",
   "name": "python3"
  },
  "language_info": {
   "codemirror_mode": {
    "name": "ipython",
    "version": 3
   },
   "file_extension": ".py",
   "mimetype": "text/x-python",
   "name": "python",
   "nbconvert_exporter": "python",
   "pygments_lexer": "ipython3",
   "version": "3.12.5"
  }
 },
 "nbformat": 4,
 "nbformat_minor": 2
}

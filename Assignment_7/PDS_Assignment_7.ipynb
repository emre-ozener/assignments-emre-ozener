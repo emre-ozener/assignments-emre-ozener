{
 "cells": [
  {
   "metadata": {
    "ExecuteTime": {
     "end_time": "2024-11-26T22:38:47.245355Z",
     "start_time": "2024-11-26T22:38:46.833430Z"
    }
   },
   "cell_type": "code",
   "source": [
    "## importing pandas\n",
    "import pandas as pd"
   ],
   "id": "a0d698bfd684d380",
   "outputs": [],
   "execution_count": 2
  },
  {
   "metadata": {},
   "cell_type": "markdown",
   "source": "## Exercise 1: Create a new column called **professor_initials** that stores the initials of each professor's first and last names. Use the following data:",
   "id": "50f907ef1c651a4c"
  },
  {
   "metadata": {
    "ExecuteTime": {
     "end_time": "2024-11-26T22:38:48.326193Z",
     "start_time": "2024-11-26T22:38:48.314693Z"
    }
   },
   "cell_type": "code",
   "source": [
    "data = {\n",
    "    'professor': ['Ludmila Kuncheva', 'Antonio Torralba', 'Manuel Gonzalez', 'Bastian Leibe'],\n",
    "    'department': ['Computer Science', 'Computer Vision', 'AI & Robotics', 'Autonomous Systems'],\n",
    "    'age': [45, 50, 47, 38]\n",
    "}\n",
    "\n",
    "df = pd.DataFrame(data)\n",
    "df"
   ],
   "id": "5bd5e8832477a328",
   "outputs": [
    {
     "data": {
      "text/plain": [
       "          professor          department  age\n",
       "0  Ludmila Kuncheva    Computer Science   45\n",
       "1  Antonio Torralba     Computer Vision   50\n",
       "2   Manuel Gonzalez       AI & Robotics   47\n",
       "3     Bastian Leibe  Autonomous Systems   38"
      ],
      "text/html": [
       "<div>\n",
       "<style scoped>\n",
       "    .dataframe tbody tr th:only-of-type {\n",
       "        vertical-align: middle;\n",
       "    }\n",
       "\n",
       "    .dataframe tbody tr th {\n",
       "        vertical-align: top;\n",
       "    }\n",
       "\n",
       "    .dataframe thead th {\n",
       "        text-align: right;\n",
       "    }\n",
       "</style>\n",
       "<table border=\"1\" class=\"dataframe\">\n",
       "  <thead>\n",
       "    <tr style=\"text-align: right;\">\n",
       "      <th></th>\n",
       "      <th>professor</th>\n",
       "      <th>department</th>\n",
       "      <th>age</th>\n",
       "    </tr>\n",
       "  </thead>\n",
       "  <tbody>\n",
       "    <tr>\n",
       "      <th>0</th>\n",
       "      <td>Ludmila Kuncheva</td>\n",
       "      <td>Computer Science</td>\n",
       "      <td>45</td>\n",
       "    </tr>\n",
       "    <tr>\n",
       "      <th>1</th>\n",
       "      <td>Antonio Torralba</td>\n",
       "      <td>Computer Vision</td>\n",
       "      <td>50</td>\n",
       "    </tr>\n",
       "    <tr>\n",
       "      <th>2</th>\n",
       "      <td>Manuel Gonzalez</td>\n",
       "      <td>AI &amp; Robotics</td>\n",
       "      <td>47</td>\n",
       "    </tr>\n",
       "    <tr>\n",
       "      <th>3</th>\n",
       "      <td>Bastian Leibe</td>\n",
       "      <td>Autonomous Systems</td>\n",
       "      <td>38</td>\n",
       "    </tr>\n",
       "  </tbody>\n",
       "</table>\n",
       "</div>"
      ]
     },
     "execution_count": 3,
     "metadata": {},
     "output_type": "execute_result"
    }
   ],
   "execution_count": 3
  },
  {
   "metadata": {
    "ExecuteTime": {
     "end_time": "2024-11-26T22:38:56.219599Z",
     "start_time": "2024-11-26T22:38:56.182040Z"
    }
   },
   "cell_type": "code",
   "source": [
    "# splitting the name column and choosing the first letter in name and surname.\n",
    "df['professor_initials'] = df['professor'].apply(lambda name: name.split()[0][0] + name.split()[1][0])"
   ],
   "id": "ecc351247a6226b2",
   "outputs": [],
   "execution_count": 4
  },
  {
   "metadata": {
    "ExecuteTime": {
     "end_time": "2024-11-26T22:39:10.019035Z",
     "start_time": "2024-11-26T22:39:10.000980Z"
    }
   },
   "cell_type": "code",
   "source": [
    "#displaying the new df\n",
    "df"
   ],
   "id": "66d0bb540b1fdccf",
   "outputs": [
    {
     "data": {
      "text/plain": [
       "          professor          department  age professor_initials\n",
       "0  Ludmila Kuncheva    Computer Science   45                 LK\n",
       "1  Antonio Torralba     Computer Vision   50                 AT\n",
       "2   Manuel Gonzalez       AI & Robotics   47                 MG\n",
       "3     Bastian Leibe  Autonomous Systems   38                 BL"
      ],
      "text/html": [
       "<div>\n",
       "<style scoped>\n",
       "    .dataframe tbody tr th:only-of-type {\n",
       "        vertical-align: middle;\n",
       "    }\n",
       "\n",
       "    .dataframe tbody tr th {\n",
       "        vertical-align: top;\n",
       "    }\n",
       "\n",
       "    .dataframe thead th {\n",
       "        text-align: right;\n",
       "    }\n",
       "</style>\n",
       "<table border=\"1\" class=\"dataframe\">\n",
       "  <thead>\n",
       "    <tr style=\"text-align: right;\">\n",
       "      <th></th>\n",
       "      <th>professor</th>\n",
       "      <th>department</th>\n",
       "      <th>age</th>\n",
       "      <th>professor_initials</th>\n",
       "    </tr>\n",
       "  </thead>\n",
       "  <tbody>\n",
       "    <tr>\n",
       "      <th>0</th>\n",
       "      <td>Ludmila Kuncheva</td>\n",
       "      <td>Computer Science</td>\n",
       "      <td>45</td>\n",
       "      <td>LK</td>\n",
       "    </tr>\n",
       "    <tr>\n",
       "      <th>1</th>\n",
       "      <td>Antonio Torralba</td>\n",
       "      <td>Computer Vision</td>\n",
       "      <td>50</td>\n",
       "      <td>AT</td>\n",
       "    </tr>\n",
       "    <tr>\n",
       "      <th>2</th>\n",
       "      <td>Manuel Gonzalez</td>\n",
       "      <td>AI &amp; Robotics</td>\n",
       "      <td>47</td>\n",
       "      <td>MG</td>\n",
       "    </tr>\n",
       "    <tr>\n",
       "      <th>3</th>\n",
       "      <td>Bastian Leibe</td>\n",
       "      <td>Autonomous Systems</td>\n",
       "      <td>38</td>\n",
       "      <td>BL</td>\n",
       "    </tr>\n",
       "  </tbody>\n",
       "</table>\n",
       "</div>"
      ]
     },
     "execution_count": 5,
     "metadata": {},
     "output_type": "execute_result"
    }
   ],
   "execution_count": 5
  },
  {
   "metadata": {
    "ExecuteTime": {
     "end_time": "2024-11-26T22:44:25.077249Z",
     "start_time": "2024-11-26T22:44:25.068923Z"
    }
   },
   "cell_type": "code",
   "source": [
    "# printing each initial for name\n",
    "for i in df.index:\n",
    "    name = df[\"professor\"][i]\n",
    "    initial = df[\"professor_initials\"][i]\n",
    "    print(f\"{name} has initials {initial}\")"
   ],
   "id": "5b7d9e9248720842",
   "outputs": [
    {
     "name": "stdout",
     "output_type": "stream",
     "text": [
      "Ludmila Kuncheva has initials LK\n",
      "Antonio Torralba has initials AT\n",
      "Manuel Gonzalez has initials MG\n",
      "Bastian Leibe has initials BL\n"
     ]
    }
   ],
   "execution_count": 11
  },
  {
   "metadata": {},
   "cell_type": "markdown",
   "source": "## Exercise 2: Given the dataframe below. Use **join** to combine this new DataFrame with the original one based on the professor column.",
   "id": "746e98853ac85adc"
  },
  {
   "metadata": {
    "ExecuteTime": {
     "end_time": "2024-11-26T22:45:30.882500Z",
     "start_time": "2024-11-26T22:45:30.871076Z"
    }
   },
   "cell_type": "code",
   "source": [
    "courses_data = {\n",
    "    'professor': ['Ludmila Kuncheva', 'Antonio Torralba', 'Manuel Gonzalez', 'Bastian Leibe'],\n",
    "    'courses': ['Machine Learning', 'Computer Vision', 'AI Programming', 'Self-Driving Cars']\n",
    "}\n",
    "df_courses = pd.DataFrame(courses_data)"
   ],
   "id": "1cee4cce94179a24",
   "outputs": [],
   "execution_count": 12
  },
  {
   "metadata": {
    "ExecuteTime": {
     "end_time": "2024-11-26T22:45:37.906698Z",
     "start_time": "2024-11-26T22:45:37.874345Z"
    }
   },
   "cell_type": "code",
   "source": [
    "#setting the index based on the column \"professor\"\n",
    "df_courses.set_index('professor', inplace=True)\n",
    "#combining the dfs with join\n",
    "df.join(df_courses, on='professor', how='inner')"
   ],
   "id": "25bfa6feea3b0a86",
   "outputs": [
    {
     "data": {
      "text/plain": [
       "          professor          department  age professor_initials  \\\n",
       "0  Ludmila Kuncheva    Computer Science   45                 LK   \n",
       "1  Antonio Torralba     Computer Vision   50                 AT   \n",
       "2   Manuel Gonzalez       AI & Robotics   47                 MG   \n",
       "3     Bastian Leibe  Autonomous Systems   38                 BL   \n",
       "\n",
       "             courses  \n",
       "0   Machine Learning  \n",
       "1    Computer Vision  \n",
       "2     AI Programming  \n",
       "3  Self-Driving Cars  "
      ],
      "text/html": [
       "<div>\n",
       "<style scoped>\n",
       "    .dataframe tbody tr th:only-of-type {\n",
       "        vertical-align: middle;\n",
       "    }\n",
       "\n",
       "    .dataframe tbody tr th {\n",
       "        vertical-align: top;\n",
       "    }\n",
       "\n",
       "    .dataframe thead th {\n",
       "        text-align: right;\n",
       "    }\n",
       "</style>\n",
       "<table border=\"1\" class=\"dataframe\">\n",
       "  <thead>\n",
       "    <tr style=\"text-align: right;\">\n",
       "      <th></th>\n",
       "      <th>professor</th>\n",
       "      <th>department</th>\n",
       "      <th>age</th>\n",
       "      <th>professor_initials</th>\n",
       "      <th>courses</th>\n",
       "    </tr>\n",
       "  </thead>\n",
       "  <tbody>\n",
       "    <tr>\n",
       "      <th>0</th>\n",
       "      <td>Ludmila Kuncheva</td>\n",
       "      <td>Computer Science</td>\n",
       "      <td>45</td>\n",
       "      <td>LK</td>\n",
       "      <td>Machine Learning</td>\n",
       "    </tr>\n",
       "    <tr>\n",
       "      <th>1</th>\n",
       "      <td>Antonio Torralba</td>\n",
       "      <td>Computer Vision</td>\n",
       "      <td>50</td>\n",
       "      <td>AT</td>\n",
       "      <td>Computer Vision</td>\n",
       "    </tr>\n",
       "    <tr>\n",
       "      <th>2</th>\n",
       "      <td>Manuel Gonzalez</td>\n",
       "      <td>AI &amp; Robotics</td>\n",
       "      <td>47</td>\n",
       "      <td>MG</td>\n",
       "      <td>AI Programming</td>\n",
       "    </tr>\n",
       "    <tr>\n",
       "      <th>3</th>\n",
       "      <td>Bastian Leibe</td>\n",
       "      <td>Autonomous Systems</td>\n",
       "      <td>38</td>\n",
       "      <td>BL</td>\n",
       "      <td>Self-Driving Cars</td>\n",
       "    </tr>\n",
       "  </tbody>\n",
       "</table>\n",
       "</div>"
      ]
     },
     "execution_count": 13,
     "metadata": {},
     "output_type": "execute_result"
    }
   ],
   "execution_count": 13
  },
  {
   "metadata": {},
   "cell_type": "markdown",
   "source": "## Exercise 3: Combine the original df and df_courses DataFrames.\n",
   "id": "dd40eecdb7bd4366"
  },
  {
   "metadata": {
    "ExecuteTime": {
     "end_time": "2024-11-26T23:08:41.624159Z",
     "start_time": "2024-11-26T23:08:41.599850Z"
    }
   },
   "cell_type": "code",
   "source": [
    "data = {\n",
    "    'professor': ['Ludmila Kuncheva', 'Antonio Torralba', 'Manuel Gonzalez', 'Bastian Leibe'],\n",
    "    'department': ['Computer Science', 'Computer Vision', 'AI & Robotics', 'Autonomous Systems'],\n",
    "    'age': [45, 50, 47, 38]\n",
    "}\n",
    "\n",
    "df = pd.DataFrame(data)\n",
    "\n",
    "courses_data = {\n",
    "    'professor': ['Ludmila Kuncheva', 'Antonio Torralba', 'Manuel Gonzalez', 'Bastian Leibe'],\n",
    "    'courses': ['Machine Learning', 'Computer Vision', 'AI Programming', 'Self-Driving Cars']\n",
    "}\n",
    "df_courses = pd.DataFrame(courses_data)"
   ],
   "id": "940b4b76ae838319",
   "outputs": [],
   "execution_count": 31
  },
  {
   "metadata": {
    "ExecuteTime": {
     "end_time": "2024-11-26T23:08:42.123919Z",
     "start_time": "2024-11-26T23:08:42.099099Z"
    }
   },
   "cell_type": "code",
   "source": [
    "#combining the dfs using merge\n",
    "last_df = pd.merge(df, df_courses, on = \"professor\" , how=\"inner\")\n"
   ],
   "id": "7dd36c38c74690d9",
   "outputs": [],
   "execution_count": 32
  },
  {
   "metadata": {
    "ExecuteTime": {
     "end_time": "2024-11-26T23:08:42.546033Z",
     "start_time": "2024-11-26T23:08:42.530865Z"
    }
   },
   "cell_type": "code",
   "source": "last_df",
   "id": "7925b76e9e01dcaf",
   "outputs": [
    {
     "data": {
      "text/plain": [
       "          professor          department  age            courses\n",
       "0  Ludmila Kuncheva    Computer Science   45   Machine Learning\n",
       "1  Antonio Torralba     Computer Vision   50    Computer Vision\n",
       "2   Manuel Gonzalez       AI & Robotics   47     AI Programming\n",
       "3     Bastian Leibe  Autonomous Systems   38  Self-Driving Cars"
      ],
      "text/html": [
       "<div>\n",
       "<style scoped>\n",
       "    .dataframe tbody tr th:only-of-type {\n",
       "        vertical-align: middle;\n",
       "    }\n",
       "\n",
       "    .dataframe tbody tr th {\n",
       "        vertical-align: top;\n",
       "    }\n",
       "\n",
       "    .dataframe thead th {\n",
       "        text-align: right;\n",
       "    }\n",
       "</style>\n",
       "<table border=\"1\" class=\"dataframe\">\n",
       "  <thead>\n",
       "    <tr style=\"text-align: right;\">\n",
       "      <th></th>\n",
       "      <th>professor</th>\n",
       "      <th>department</th>\n",
       "      <th>age</th>\n",
       "      <th>courses</th>\n",
       "    </tr>\n",
       "  </thead>\n",
       "  <tbody>\n",
       "    <tr>\n",
       "      <th>0</th>\n",
       "      <td>Ludmila Kuncheva</td>\n",
       "      <td>Computer Science</td>\n",
       "      <td>45</td>\n",
       "      <td>Machine Learning</td>\n",
       "    </tr>\n",
       "    <tr>\n",
       "      <th>1</th>\n",
       "      <td>Antonio Torralba</td>\n",
       "      <td>Computer Vision</td>\n",
       "      <td>50</td>\n",
       "      <td>Computer Vision</td>\n",
       "    </tr>\n",
       "    <tr>\n",
       "      <th>2</th>\n",
       "      <td>Manuel Gonzalez</td>\n",
       "      <td>AI &amp; Robotics</td>\n",
       "      <td>47</td>\n",
       "      <td>AI Programming</td>\n",
       "    </tr>\n",
       "    <tr>\n",
       "      <th>3</th>\n",
       "      <td>Bastian Leibe</td>\n",
       "      <td>Autonomous Systems</td>\n",
       "      <td>38</td>\n",
       "      <td>Self-Driving Cars</td>\n",
       "    </tr>\n",
       "  </tbody>\n",
       "</table>\n",
       "</div>"
      ]
     },
     "execution_count": 33,
     "metadata": {},
     "output_type": "execute_result"
    }
   ],
   "execution_count": 33
  },
  {
   "metadata": {},
   "cell_type": "markdown",
   "source": "## Exercise 4: In the professor column, create a new column professor_last_name by extracting the last name of each professor using string operations.",
   "id": "2160d4db8d18ac5"
  },
  {
   "metadata": {
    "ExecuteTime": {
     "end_time": "2024-11-26T22:51:53.381549Z",
     "start_time": "2024-11-26T22:51:53.368507Z"
    }
   },
   "cell_type": "code",
   "source": [
    "#splitting the name column and choosing the last word as the last name and creating a new column based on the last name.\n",
    "last_df[\"professor_last_name\"] = last_df[\"professor\"].str.split().str[-1]\n",
    "last_df"
   ],
   "id": "2a4e69b1e3489860",
   "outputs": [
    {
     "data": {
      "text/plain": [
       "          professor          department  age            courses  \\\n",
       "0  Antonio Torralba     Computer Vision   50    Computer Vision   \n",
       "1     Bastian Leibe  Autonomous Systems   38  Self-Driving Cars   \n",
       "2  Ludmila Kuncheva    Computer Science   45   Machine Learning   \n",
       "3   Manuel Gonzalez       AI & Robotics   47     AI Programming   \n",
       "\n",
       "  professor_last_name  \n",
       "0            Torralba  \n",
       "1               Leibe  \n",
       "2            Kuncheva  \n",
       "3            Gonzalez  "
      ],
      "text/html": [
       "<div>\n",
       "<style scoped>\n",
       "    .dataframe tbody tr th:only-of-type {\n",
       "        vertical-align: middle;\n",
       "    }\n",
       "\n",
       "    .dataframe tbody tr th {\n",
       "        vertical-align: top;\n",
       "    }\n",
       "\n",
       "    .dataframe thead th {\n",
       "        text-align: right;\n",
       "    }\n",
       "</style>\n",
       "<table border=\"1\" class=\"dataframe\">\n",
       "  <thead>\n",
       "    <tr style=\"text-align: right;\">\n",
       "      <th></th>\n",
       "      <th>professor</th>\n",
       "      <th>department</th>\n",
       "      <th>age</th>\n",
       "      <th>courses</th>\n",
       "      <th>professor_last_name</th>\n",
       "    </tr>\n",
       "  </thead>\n",
       "  <tbody>\n",
       "    <tr>\n",
       "      <th>0</th>\n",
       "      <td>Antonio Torralba</td>\n",
       "      <td>Computer Vision</td>\n",
       "      <td>50</td>\n",
       "      <td>Computer Vision</td>\n",
       "      <td>Torralba</td>\n",
       "    </tr>\n",
       "    <tr>\n",
       "      <th>1</th>\n",
       "      <td>Bastian Leibe</td>\n",
       "      <td>Autonomous Systems</td>\n",
       "      <td>38</td>\n",
       "      <td>Self-Driving Cars</td>\n",
       "      <td>Leibe</td>\n",
       "    </tr>\n",
       "    <tr>\n",
       "      <th>2</th>\n",
       "      <td>Ludmila Kuncheva</td>\n",
       "      <td>Computer Science</td>\n",
       "      <td>45</td>\n",
       "      <td>Machine Learning</td>\n",
       "      <td>Kuncheva</td>\n",
       "    </tr>\n",
       "    <tr>\n",
       "      <th>3</th>\n",
       "      <td>Manuel Gonzalez</td>\n",
       "      <td>AI &amp; Robotics</td>\n",
       "      <td>47</td>\n",
       "      <td>AI Programming</td>\n",
       "      <td>Gonzalez</td>\n",
       "    </tr>\n",
       "  </tbody>\n",
       "</table>\n",
       "</div>"
      ]
     },
     "execution_count": 21,
     "metadata": {},
     "output_type": "execute_result"
    }
   ],
   "execution_count": 21
  },
  {
   "metadata": {
    "ExecuteTime": {
     "end_time": "2024-11-26T22:57:41.444808Z",
     "start_time": "2024-11-26T22:57:41.440053Z"
    }
   },
   "cell_type": "code",
   "source": [
    "# printing each lastname for name\n",
    "for i in last_df.index:\n",
    "    name = last_df[\"professor\"][i]\n",
    "    lastname = last_df[\"professor_last_name\"][i]\n",
    "    print(f\"{name} has initials {lastname}\")"
   ],
   "id": "f83f8d1c9818ab17",
   "outputs": [
    {
     "name": "stdout",
     "output_type": "stream",
     "text": [
      "Antonio Torralba has initials Torralba\n",
      "Bastian Leibe has initials Leibe\n",
      "Ludmila Kuncheva has initials Kuncheva\n",
      "Manuel Gonzalez has initials Gonzalez\n"
     ]
    }
   ],
   "execution_count": 28
  }
 ],
 "metadata": {
  "kernelspec": {
   "display_name": "Python 3",
   "language": "python",
   "name": "python3"
  },
  "language_info": {
   "codemirror_mode": {
    "name": "ipython",
    "version": 2
   },
   "file_extension": ".py",
   "mimetype": "text/x-python",
   "name": "python",
   "nbconvert_exporter": "python",
   "pygments_lexer": "ipython2",
   "version": "2.7.6"
  }
 },
 "nbformat": 4,
 "nbformat_minor": 5
}
